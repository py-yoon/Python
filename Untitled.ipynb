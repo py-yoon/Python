{
 "cells": [
  {
   "cell_type": "markdown",
   "metadata": {},
   "source": [
    "## 주피터 노트북을 활용한 마크다운 작성\n",
    "스팀잇이나 비지에서 글을 작성해도 되지만 다른 노트를 이용해 글을 작성하는 분들도 있습니다. 여러 마크다운 노트들이 있는데요. 그동안 저는 메모장을 많이 사용했습니다. 마크다운패드2를 다운 받긴 했는데 잘 안쓰게 되더군요. 주피터 노트북은 문서와 함께 코드를 같이 올리기 좋습니다. \n",
    "\n",
    "#### 예시"
   ]
  },
  {
   "cell_type": "code",
   "execution_count": 3,
   "metadata": {},
   "outputs": [
    {
     "name": "stdout",
     "output_type": "stream",
     "text": [
      "Hello, World!\n"
     ]
    }
   ],
   "source": [
    "print(\"Hello, World!\")"
   ]
  },
  {
   "cell_type": "markdown",
   "metadata": {},
   "source": [
    "중간에 코드를 넣고 이어 글을 작성할 수 있습니다. 최종 파일은 `*.ipynb` 확장자로 저장되는데요. 깃허브에 올리면 그대로 올라가게 됩니다."
   ]
  }
 ],
 "metadata": {
  "kernelspec": {
   "display_name": "Python 3",
   "language": "python",
   "name": "python3"
  },
  "language_info": {
   "codemirror_mode": {
    "name": "ipython",
    "version": 3
   },
   "file_extension": ".py",
   "mimetype": "text/x-python",
   "name": "python",
   "nbconvert_exporter": "python",
   "pygments_lexer": "ipython3",
   "version": "3.7.0"
  }
 },
 "nbformat": 4,
 "nbformat_minor": 2
}
